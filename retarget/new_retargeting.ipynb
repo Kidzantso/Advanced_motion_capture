{
 "cells": [
  {
   "cell_type": "markdown",
   "id": "becff56a",
   "metadata": {},
   "source": [
    "## Initializing the Add On"
   ]
  },
  {
   "cell_type": "code",
   "execution_count": null,
   "id": "2fa2cc31",
   "metadata": {},
   "outputs": [],
   "source": [
    "import bpy\n",
    "\n",
    "def setup_addon(addon_zip_path: str) -> None:\n",
    "    \"\"\"Install and enable the retarget_bvh addon.\"\"\"\n",
    "    bpy.ops.preferences.addon_install(filepath=addon_zip_path, overwrite=True)\n",
    "    bpy.ops.preferences.addon_enable(module=\"retarget_bvh\")\n",
    "    bpy.ops.wm.save_userpref()\n",
    "    print(\"retarget_bvh\" in bpy.context.preferences.addons)\n"
   ]
  },
  {
   "cell_type": "markdown",
   "id": "bd5a9d93",
   "metadata": {},
   "source": [
    "## Clearing All Objects from the Scene"
   ]
  },
  {
   "cell_type": "code",
   "execution_count": null,
   "id": "37099c28",
   "metadata": {},
   "outputs": [],
   "source": [
    "def clear_scene() -> None:\n",
    "    \"\"\"Clear all objects from the scene.\"\"\"\n",
    "    bpy.ops.object.select_all(action='SELECT')\n",
    "    bpy.ops.object.delete(use_global=False)"
   ]
  },
  {
   "cell_type": "markdown",
   "id": "8025457e",
   "metadata": {},
   "source": [
    "## Importing the BVH and GLB Avatar"
   ]
  },
  {
   "cell_type": "code",
   "execution_count": null,
   "id": "63b44a01",
   "metadata": {},
   "outputs": [],
   "source": [
    "import os\n",
    "\n",
    "def import_models(bvh_path: str, avatar_path: str) -> tuple:\n",
    "    \"\"\"Import BVH and GLB models and return their objects.\"\"\"\n",
    "    bvh_name = os.path.splitext(os.path.basename(bvh_path))[0]\n",
    "    \n",
    "    bpy.ops.import_anim.bvh(\n",
    "        filepath=bvh_path,\n",
    "        update_scene_fps=True,\n",
    "        update_scene_duration=True\n",
    "    )\n",
    "    bpy.ops.import_scene.gltf(filepath=avatar_path)\n",
    "\n",
    "    glb_obj = bpy.data.objects.get(\"Armature\")\n",
    "    bvh_obj = bpy.data.objects.get(bvh_name)\n",
    "\n",
    "    if not glb_obj or not bvh_obj:\n",
    "        raise RuntimeError(\"Armature not found. Check BVH and avatar files.\")\n",
    "    \n",
    "    return glb_obj, bvh_obj"
   ]
  },
  {
   "cell_type": "markdown",
   "id": "d018eb94",
   "metadata": {},
   "source": [
    "## Setting up BVH & GLB"
   ]
  },
  {
   "cell_type": "code",
   "execution_count": null,
   "id": "6ea06713",
   "metadata": {},
   "outputs": [],
   "source": [
    "import math \n",
    "\n",
    "def setup_bvh(bvh_obj, glb_obj) -> None:\n",
    "    \"\"\"Configure BVH object's scale, position, and rotation.\"\"\"\n",
    "    bvh_obj.scale = (0.00819, 0.00819, 0.00819)\n",
    "    # Keep original BVH position\n",
    "    bvh_obj.rotation_mode = 'XYZ'\n",
    "    bvh_obj.rotation_euler = (math.radians(270), math.radians(0), math.radians(0))\n",
    "\n",
    "    bpy.context.view_layer.objects.active = bvh_obj\n",
    "    bpy.ops.object.select_all(action='DESELECT')\n",
    "    bvh_obj.select_set(True)\n",
    "    bpy.ops.object.transform_apply(location=False, rotation=True, scale=False)"
   ]
  },
  {
   "cell_type": "code",
   "execution_count": null,
   "id": "f7814dec",
   "metadata": {},
   "outputs": [],
   "source": [
    "def setup_glb(glb_obj, bvh_obj) -> None:\n",
    "    \"\"\"Configure GLB object's position and rotation to match BVH.\"\"\"\n",
    "    # Match GLB position with BVH\n",
    "    glb_obj.location = bvh_obj.location\n",
    "    glb_obj.rotation_mode = 'XYZ'\n",
    "    glb_obj.rotation_euler = (math.radians(0), math.radians(0), math.radians(0))"
   ]
  },
  {
   "cell_type": "markdown",
   "id": "8496850f",
   "metadata": {},
   "source": [
    "## Perform Retargetting"
   ]
  },
  {
   "cell_type": "code",
   "execution_count": null,
   "id": "6158ea78",
   "metadata": {},
   "outputs": [],
   "source": [
    "def perform_retargeting(bvh_obj, glb_obj) -> None:\n",
    "    \"\"\"Perform the retargeting operation between BVH and GLB.\"\"\"\n",
    "    bpy.ops.object.select_all(action='DESELECT')\n",
    "    bvh_obj.select_set(True)\n",
    "    bpy.context.view_layer.objects.active = glb_obj\n",
    "\n",
    "    result = bpy.ops.mcp.retarget_selected_to_active('EXEC_DEFAULT')\n",
    "    print(\"Retargeting result:\", result)"
   ]
  },
  {
   "cell_type": "markdown",
   "id": "d14fb014",
   "metadata": {},
   "source": [
    "## Post Retargeting Adjustments (Rotation & Origin of GLB)"
   ]
  },
  {
   "cell_type": "code",
   "execution_count": null,
   "id": "0a732183",
   "metadata": {},
   "outputs": [],
   "source": [
    "def adjust_glb_orientation(glb_obj) -> None:\n",
    "    \"\"\"Adjust the GLB object's orientation after retargeting.\"\"\"\n",
    "    bpy.ops.object.select_all(action='DESELECT')\n",
    "    glb_obj.select_set(True)\n",
    "    bpy.context.view_layer.objects.active = glb_obj\n",
    "    glb_obj.rotation_mode = 'XYZ'\n",
    "    glb_obj.rotation_euler = (math.radians(90), math.radians(0), math.radians(0))\n",
    "    bpy.ops.object.transform_apply(location=False, rotation=True, scale=False)\n",
    "\n",
    "def set_geomtery_to_origin(glb_obj):\n",
    "    bpy.ops.object.select_all(action='DESELECT')\n",
    "    glb_obj.select_set(True)\n",
    "    bpy.context.view_layer.objects.active = glb_obj\n",
    "    bpy.ops.object.origin_set(type='ORIGIN_GEOMETRY', center='MEDIAN')"
   ]
  },
  {
   "cell_type": "markdown",
   "id": "d220aa16",
   "metadata": {},
   "source": [
    "## Export the GLB"
   ]
  },
  {
   "cell_type": "code",
   "execution_count": null,
   "id": "223db3fb",
   "metadata": {},
   "outputs": [],
   "source": [
    "def export_retargeted_model(glb_obj, export_path: str) -> None:\n",
    "    \"\"\"Export the retargeted model to GLB format.\"\"\"\n",
    "    for child in glb_obj.children:\n",
    "        child.select_set(True)\n",
    "\n",
    "    os.makedirs(os.path.dirname(export_path), exist_ok=True)\n",
    "\n",
    "    bpy.ops.export_scene.gltf(\n",
    "        filepath=export_path,\n",
    "        export_format='GLB',\n",
    "        use_selection=True,\n",
    "        export_apply=True,\n",
    "        export_animations=True\n",
    "    )\n",
    "    print(f\"Exported to {export_path}\")"
   ]
  },
  {
   "cell_type": "markdown",
   "id": "9f1e1911",
   "metadata": {},
   "source": [
    "## Main Function to call"
   ]
  },
  {
   "cell_type": "code",
   "execution_count": null,
   "id": "2628ca77",
   "metadata": {},
   "outputs": [],
   "source": [
    "def retarget_bvh_to_avatar(bvh_path: str, avatar_path: str, export_path: str, addon_zip_path: str = \"./retarget_bvh-4.2.1.zip\") -> str:\n",
    "    \"\"\"Main function to retarget BVH animation to GLB avatar.\"\"\"\n",
    "    setup_addon(addon_zip_path)\n",
    "    clear_scene()\n",
    "    \n",
    "    glb_obj, bvh_obj = import_models(bvh_path, avatar_path)\n",
    "    setup_bvh(bvh_obj, glb_obj)\n",
    "    setup_glb(glb_obj, bvh_obj)\n",
    "    perform_retargeting(bvh_obj, glb_obj)\n",
    "    set_geomtery_to_origin(glb_obj)\n",
    "    adjust_glb_orientation(glb_obj)\n",
    "    export_retargeted_model(glb_obj, export_path)\n",
    "    \n",
    "    return export_path\n",
    "\n",
    "# Construct full export path\n",
    "export_path = os.path.join(os.getcwd(), \"new_retargeted_avatar.glb\")\n",
    "\n",
    "retarget_bvh_to_avatar(\n",
    "    bvh_path=\"new_bvh.bvh\",\n",
    "    avatar_path=\"avatar.glb\",\n",
    "    export_path=export_path,\n",
    ")"
   ]
  }
 ],
 "metadata": {
  "kernelspec": {
   "display_name": "venv",
   "language": "python",
   "name": "python3"
  },
  "language_info": {
   "codemirror_mode": {
    "name": "ipython",
    "version": 3
   },
   "file_extension": ".py",
   "mimetype": "text/x-python",
   "name": "python",
   "nbconvert_exporter": "python",
   "pygments_lexer": "ipython3",
   "version": "3.11.9"
  }
 },
 "nbformat": 4,
 "nbformat_minor": 5
}
