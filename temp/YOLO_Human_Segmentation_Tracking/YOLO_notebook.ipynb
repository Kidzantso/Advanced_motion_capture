{
 "cells": [
  {
   "cell_type": "markdown",
   "id": "27ed71b80cf1ff58",
   "metadata": {},
   "source": [
    "## Imports"
   ]
  },
  {
   "cell_type": "code",
   "execution_count": 1,
   "id": "cdf1e3ae713e0138",
   "metadata": {},
   "outputs": [
    {
     "ename": "ModuleNotFoundError",
     "evalue": "No module named 'ultralytics'",
     "output_type": "error",
     "traceback": [
      "\u001b[1;31m---------------------------------------------------------------------------\u001b[0m",
      "\u001b[1;31mModuleNotFoundError\u001b[0m                       Traceback (most recent call last)",
      "Cell \u001b[1;32mIn[1], line 2\u001b[0m\n\u001b[0;32m      1\u001b[0m \u001b[38;5;28;01mimport\u001b[39;00m \u001b[38;5;21;01mnumpy\u001b[39;00m \u001b[38;5;28;01mas\u001b[39;00m \u001b[38;5;21;01mnp\u001b[39;00m\n\u001b[1;32m----> 2\u001b[0m \u001b[38;5;28;01mfrom\u001b[39;00m \u001b[38;5;21;01multralytics\u001b[39;00m \u001b[38;5;28;01mimport\u001b[39;00m YOLO\n",
      "\u001b[1;31mModuleNotFoundError\u001b[0m: No module named 'ultralytics'"
     ]
    }
   ],
   "source": [
    "import numpy as np\n",
    "from ultralytics import YOLO"
   ]
  },
  {
   "cell_type": "code",
   "execution_count": null,
   "id": "bb0a5d6a24f8dfa3",
   "metadata": {},
   "outputs": [],
   "source": [
    "# YOLO v11 POSE detection model (to only detect humans as needed)\n",
    "# model = YOLO('yolo11n-pose.pt')\n",
    "# model = YOLO('yolov8n-pose.pt')\n",
    "model = YOLO('yolo11n.pt')"
   ]
  },
  {
   "cell_type": "code",
   "execution_count": null,
   "id": "56f056568759370a",
   "metadata": {},
   "outputs": [],
   "source": [
    "import cv2\n",
    "# load video\n",
    "video_name = '5-people-walking-compressed.mp4'\n",
    "video_path = f'Source Videos/{video_name}'"
   ]
  },
  {
   "cell_type": "markdown",
   "id": "2a02413d47382650",
   "metadata": {},
   "source": [
    "## YOLO Detection & Tracking ( Display )"
   ]
  },
  {
   "cell_type": "code",
   "execution_count": null,
   "id": "d5feab577a9bcc24",
   "metadata": {},
   "outputs": [],
   "source": [
    "# cap = cv2.VideoCapture(video_path)\n",
    "\n",
    "# while True:\n",
    "#     ret, frame = cap.read()\n",
    "\n",
    "#     if not ret:\n",
    "#         break\n",
    "\n",
    "#     # results = model.track(frame, persist=True, tracker = 'bytetracker.yaml')\n",
    "#     results = model.track(frame, persist=True)\n",
    "\n",
    "#     frame_ = results[0].plot()\n",
    "\n",
    "#     # visualize\n",
    "#     cv2.imshow('frame', frame_)\n",
    "\n",
    "#     if cv2.waitKey(25) & 0xFF == ord('q'):\n",
    "#         break\n",
    "\n",
    "# cv2.destroyAllWindows()"
   ]
  },
  {
   "cell_type": "markdown",
   "id": "fa4f8cd1f3dfe11f",
   "metadata": {},
   "source": [
    "## YOLO Detection & Tracking & Segmentation ( Save to Video )"
   ]
  },
  {
   "cell_type": "code",
   "execution_count": null,
   "id": "b77de35fe5d39c2b",
   "metadata": {},
   "outputs": [],
   "source": [
    "import os\n",
    "\n",
    "output_folder = f\"Output Videos\\YOLO\\\\{video_name}\"\n",
    "if not os.path.exists(output_folder):\n",
    "    os.makedirs(output_folder)"
   ]
  },
  {
   "cell_type": "code",
   "execution_count": null,
   "id": "48cc23fe7b5fd27e",
   "metadata": {},
   "outputs": [],
   "source": [
    "import os\n",
    "import numpy as np\n",
    "import cv2\n",
    "\n",
    "def initialize_video_writer(person_id, frame_width, frame_height, fps, output_folder):\n",
    "    \"\"\"\n",
    "    Initializes a VideoWriter object for the given person_id.\n",
    "    \"\"\"\n",
    "    output_video_path = os.path.join(output_folder, f'person_{person_id}.mp4')\n",
    "    fourcc = cv2.VideoWriter_fourcc(*'mp4v')\n",
    "    writer = cv2.VideoWriter(output_video_path, fourcc, fps, (frame_width, frame_height))\n",
    "    return writer\n",
    "\n",
    "def process_frame(frame, model, writers, output_folder, frame_width, frame_height, fps):\n",
    "    \"\"\"\n",
    "    Processes each frame of the video, performs detection and tracking,\n",
    "    and writes frames with detected people to their respective video files.\n",
    "    \"\"\"\n",
    "    results = model.track(frame, persist=True)\n",
    "\n",
    "    for result in results:\n",
    "        boxes = result.boxes.xyxy  # Get bounding boxes [x1, y1, x2, y2]\n",
    "        labels = result.boxes.cls  # Class IDs for detected objects\n",
    "        confidences = result.boxes.conf  # Confidence scores\n",
    "\n",
    "        if len(boxes) == 0:\n",
    "            continue\n",
    "\n",
    "        for i, box in enumerate(boxes):\n",
    "            x1, y1, x2, y2 = box  # Unpack bounding box coordinates\n",
    "            confidence = confidences[i]\n",
    "\n",
    "            # Only process the person class (ID = 0) with confidence > 0.7\n",
    "            if labels[i] == 0 and confidence > 0.7:\n",
    "                black_background = np.zeros_like(frame)\n",
    "                person_frame = frame[int(y1):int(y2), int(x1):int(x2)]  # Crop the person\n",
    "                black_background[int(y1):int(y2), int(x1):int(x2)] = person_frame  # Paste on black background\n",
    "\n",
    "                person_id = int(result.boxes.id[i])  # Get tracking ID\n",
    "\n",
    "                # Check if a VideoWriter exists for this person, create if not\n",
    "                if person_id not in writers:\n",
    "                    writers[person_id] = initialize_video_writer(person_id, frame_width, frame_height, fps, output_folder)\n",
    "\n",
    "                # Write the processed frame to the corresponding VideoWriter object\n",
    "                writers[person_id].write(black_background)\n",
    "\n",
    "def process_video(video_path, output_folder, model):\n",
    "    \"\"\"\n",
    "    Processes the video frame by frame, detects people, and writes their frames to separate video files.\n",
    "    \"\"\"\n",
    "    cap = cv2.VideoCapture(video_path)\n",
    "    if not cap.isOpened():\n",
    "        print(f\"Error: Couldn't open video file at {video_path}\")\n",
    "        return\n",
    "\n",
    "    fps = cap.get(cv2.CAP_PROP_FPS)\n",
    "    frame_width = int(cap.get(3))\n",
    "    frame_height = int(cap.get(4))\n",
    "\n",
    "    # Initialize dictionary to store VideoWriter objects for each person\n",
    "    writers = {}\n",
    "\n",
    "    while True:\n",
    "        ret, frame = cap.read()\n",
    "\n",
    "        if not ret:\n",
    "            print(\"End of video reached or error reading frame.\")\n",
    "            break\n",
    "\n",
    "        # Process the frame (detection, tracking, and writing)\n",
    "        process_frame(frame, model, writers, output_folder, frame_width, frame_height, fps)\n",
    "\n",
    "    # Release the capture and all VideoWriter objects\n",
    "    cap.release()\n",
    "    for writer in writers.values():\n",
    "        writer.release()\n",
    "\n",
    "    cv2.destroyAllWindows()"
   ]
  },
  {
   "cell_type": "code",
   "execution_count": null,
   "id": "f19ccb51c317442e",
   "metadata": {},
   "outputs": [],
   "source": [
    "process_video(video_path, output_folder, model)"
   ]
  }
 ],
 "metadata": {
  "kernelspec": {
   "display_name": "Python 3",
   "language": "python",
   "name": "python3"
  },
  "language_info": {
   "codemirror_mode": {
    "name": "ipython",
    "version": 3
   },
   "file_extension": ".py",
   "mimetype": "text/x-python",
   "name": "python",
   "nbconvert_exporter": "python",
   "pygments_lexer": "ipython3",
   "version": "3.11.9"
  }
 },
 "nbformat": 4,
 "nbformat_minor": 5
}
